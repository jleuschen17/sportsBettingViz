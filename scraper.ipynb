{
 "cells": [
  {
   "cell_type": "code",
   "execution_count": 583,
   "metadata": {
    "collapsed": true
   },
   "outputs": [],
   "source": [
    "import pandas as pd\n",
    "from bs4 import BeautifulSoup\n",
    "import requests\n",
    "from selenium import webdriver\n",
    "from selenium.webdriver.common.keys import Keys\n",
    "import time"
   ]
  },
  {
   "cell_type": "code",
   "execution_count": 584,
   "outputs": [],
   "source": [
    "def getData(type):\n",
    "    driver = webdriver.Chrome(r\"C:\\Users\\jleus\\chromedriver.exe\")\n",
    "    driver.get(\"https://www.actionnetwork.com/odds\")\n",
    "    if type == 'total':\n",
    "        driver.find_element_by_xpath('/html/body/div/div/main/div[2]/div[2]/div[1]/div/div[2]/select/option[2]').click()\n",
    "    elif type == 'moneyline':\n",
    "        driver.find_element_by_xpath('/html/body/div/div/main/div[2]/div[2]/div[1]/div/div[2]/select/option[3]').click()\n",
    "    rows = driver.find_elements_by_tag_name('tr')\n",
    "    return rows"
   ],
   "metadata": {
    "collapsed": false,
    "pycharm": {
     "name": "#%%\n"
    }
   }
  },
  {
   "cell_type": "code",
   "execution_count": 585,
   "outputs": [],
   "source": [
    "def convertToSoup(rows):\n",
    "    soup = []\n",
    "    for row in rows:\n",
    "        elementHTML = row.get_attribute('outerHTML')\n",
    "        soup.append(BeautifulSoup(elementHTML, 'lxml'))\n",
    "    return soup\n"
   ],
   "metadata": {
    "collapsed": false,
    "pycharm": {
     "name": "#%%\n"
    }
   }
  },
  {
   "cell_type": "code",
   "execution_count": 586,
   "outputs": [],
   "source": [
    "def findData(soup):\n",
    "    rows = []\n",
    "    for tr in soup:\n",
    "        tds = tr.find_all('span')\n",
    "        row = [td.text.replace('\\n', '').strip() for td in tds]\n",
    "        rows.append(row)\n",
    "        rows[-1].append(tr.find('div').text)\n",
    "\n",
    "    for row in rows:\n",
    "        if len(row) <= 1:\n",
    "            rows.remove(row)\n",
    "    return rows\n"
   ],
   "metadata": {
    "collapsed": false,
    "pycharm": {
     "name": "#%%\n"
    }
   }
  },
  {
   "cell_type": "code",
   "execution_count": 587,
   "outputs": [],
   "source": [
    "def cleanRows(type, rows):\n",
    "    nums = ['0', '1', '2', '3', '4', '5', '6', '7', '8', '9']\n",
    "    if type == 'moneyline':\n",
    "        for row in rows:\n",
    "            homeTm = list(row[-1])\n",
    "            homeTmName = \"\"\n",
    "            i = 0\n",
    "            while i < len(homeTm):\n",
    "                if homeTm[i] not in nums:\n",
    "                    homeTmName += homeTm[i]\n",
    "                    i+=1\n",
    "                else:\n",
    "                    break\n",
    "            row.pop(-1)\n",
    "            row.insert(0, homeTmName)\n",
    "            row[1] += row[2]\n",
    "            row.pop(2)\n",
    "            i = 0\n",
    "            while True:\n",
    "                if i == len(row):\n",
    "                    break\n",
    "                if row[i] == 'ML' or row[i] == '':\n",
    "                    row.pop(i)\n",
    "                else:\n",
    "                    i+=1\n",
    "    elif type == 'spread' or type == 'total':\n",
    "        for row in rows:\n",
    "            homeTm = list(row[-1])\n",
    "            homeTmName = \"\"\n",
    "            i = 0\n",
    "            while i < len(homeTm):\n",
    "                if homeTm[i] not in nums:\n",
    "                    homeTmName += homeTm[i]\n",
    "                    i+=1\n",
    "                else:\n",
    "                    break\n",
    "            row.pop(-1)\n",
    "            row.insert(0, homeTmName)\n",
    "            row[1] += row[2]\n",
    "            row.pop(2)\n",
    "            i = 0\n",
    "            while True:\n",
    "                if i >= len(row):\n",
    "                    break\n",
    "                if row[i] == '':\n",
    "                    row.pop(i)\n",
    "                elif row[i] == 'N/A':\n",
    "                    row.insert(i + 1, 'N/A')\n",
    "                    i+=2\n",
    "                else:\n",
    "                    i+=1\n",
    "    return rows"
   ],
   "metadata": {
    "collapsed": false,
    "pycharm": {
     "name": "#%%\n"
    }
   }
  },
  {
   "cell_type": "code",
   "execution_count": 588,
   "outputs": [],
   "source": [
    "def toDataFrame(rows, type):\n",
    "    if type == 'total':\n",
    "        columns = ['AwayTm', 'HomeTm', 'AwayBestOU', 'AwayBestML', 'HomeBestOU', 'HomeBestML',\n",
    "                   'AwayPBOU', 'AwayPBML', 'HomePBOU', 'HomePBML',\n",
    "                   'AwayMGMOU', 'AwayMGMML', 'HomeMGMOU', 'HomeMGMML',\n",
    "                   'AwayCESOU', 'AwayCESML', 'HomeCESOU', 'HomeBCESML',\n",
    "                   'AwayFDOU', 'AwayFDML', 'HomeFDOU', 'HomeFDML',\n",
    "                   'AwayDKOU', 'AwayDKML', 'HomeDKOU', 'HomeDKML',\n",
    "                   'AwayBROU', 'AwayBRML', 'HomeBROU', 'HomeBRML',\n",
    "                   'AwaySHOU', 'AwaySHML', 'HomeSHOU', 'HomeSHML',\n",
    "                   'AwayUBOU', 'AwayUBML', 'HomeUBOU', 'HomeUBML',\n",
    "                   'Away365OU', 'Away365ML', 'Home365OU', 'Home365ML']\n",
    "    if type == 'spread':\n",
    "        columns = ['AwayTm', 'HomeTm', 'AwayBestSpread', 'AwayBestML', 'HomeBestSpread', 'HomeBestML',\n",
    "                   'AwayPBSpread', 'AwayPBML', 'HomePBSpread', 'HomePBML',\n",
    "                   'AwayMGMSpread', 'AwayMGMML', 'HomeMGMSpread', 'HomeMGMML',\n",
    "                   'AwayCESSpread', 'AwayCESML', 'HomeCESSpread', 'HomeBCESML',\n",
    "                   'AwayFDSpread', 'AwayFDML', 'HomeFDSpread', 'HomeFDML',\n",
    "                   'AwayDKSpread', 'AwayDKML', 'HomeDKSpread', 'HomeDKML',\n",
    "                   'AwayBRSpread', 'AwayBRML', 'HomeBRSpread', 'HomeBRML',\n",
    "                   'AwaySHSpread', 'AwaySHML', 'HomeSHSpread', 'HomeSHML',\n",
    "                   'AwayUBSpread', 'AwayUBML', 'HomeUBSpread', 'HomeUBML',\n",
    "                   'Away365Spread', 'Away365ML', 'Home365Spread', 'Home365ML']\n",
    "    if type == 'moneyline':\n",
    "        columns = ['AwayTm', 'HomeTm', 'AwayBestML', 'HomeBestML',\n",
    "                   'AwayPBML', 'HomePBML', 'AwayMGMML', 'HomeMGMML',\n",
    "                   'AwayCESML', 'HomeBCESML','AwayFDML', 'HomeFDML',\n",
    "                   'AwayDKML', 'HomeDKML', 'AwayBRML', 'HomeBRML',\n",
    "                   'AwaySHML', 'HomeSHML', 'AwayUBML', 'HomeUBML',\n",
    "                   'Away365ML', 'Home365ML']\n",
    "    df = pd.DataFrame(rows, columns=columns)\n",
    "    return df"
   ],
   "metadata": {
    "collapsed": false,
    "pycharm": {
     "name": "#%%\n"
    }
   }
  },
  {
   "cell_type": "code",
   "execution_count": 589,
   "outputs": [],
   "source": [
    "def getSpecificMetric(type):\n",
    "    data = getData(type)\n",
    "    soup = convertToSoup(data)\n",
    "    rows = findData(soup)\n",
    "    cleanedRows = cleanRows(type, rows)\n",
    "    df = toDataFrame(cleanedRows, type)\n",
    "    return df"
   ],
   "metadata": {
    "collapsed": false,
    "pycharm": {
     "name": "#%%\n"
    }
   }
  },
  {
   "cell_type": "code",
   "execution_count": 590,
   "outputs": [],
   "source": [
    "def getIntervals(type, num, window):\n",
    "    for i in range(num):\n",
    "        df = getSpecificMetric(type)\n",
    "        if i == 0:\n",
    "            newDf = df\n",
    "        else:\n",
    "            newDf = newDf.append(df)\n",
    "        time.sleep(window)\n",
    "    return newDf"
   ],
   "metadata": {
    "collapsed": false,
    "pycharm": {
     "name": "#%%\n"
    }
   }
  },
  {
   "cell_type": "code",
   "execution_count": 591,
   "outputs": [
    {
     "name": "stderr",
     "output_type": "stream",
     "text": [
      "C:\\Users\\jleus\\AppData\\Local\\Temp\\ipykernel_21764\\281048714.py:2: DeprecationWarning: executable_path has been deprecated, please pass in a Service object\n",
      "  driver = webdriver.Chrome(r\"C:\\Users\\jleus\\chromedriver.exe\")\n",
      "C:\\Users\\jleus\\AppData\\Local\\Temp\\ipykernel_21764\\281048714.py:7: DeprecationWarning: find_element_by_* commands are deprecated. Please use find_element() instead\n",
      "  driver.find_element_by_xpath('/html/body/div/div/main/div[2]/div[2]/div[1]/div/div[2]/select/option[3]').click()\n",
      "C:\\Users\\jleus\\AppData\\Local\\Temp\\ipykernel_21764\\281048714.py:8: DeprecationWarning: find_elements_by_* commands are deprecated. Please use find_elements() instead\n",
      "  rows = driver.find_elements_by_tag_name('tr')\n",
      "C:\\Users\\jleus\\AppData\\Local\\Temp\\ipykernel_21764\\281048714.py:2: DeprecationWarning: executable_path has been deprecated, please pass in a Service object\n",
      "  driver = webdriver.Chrome(r\"C:\\Users\\jleus\\chromedriver.exe\")\n",
      "C:\\Users\\jleus\\AppData\\Local\\Temp\\ipykernel_21764\\281048714.py:7: DeprecationWarning: find_element_by_* commands are deprecated. Please use find_element() instead\n",
      "  driver.find_element_by_xpath('/html/body/div/div/main/div[2]/div[2]/div[1]/div/div[2]/select/option[3]').click()\n",
      "C:\\Users\\jleus\\AppData\\Local\\Temp\\ipykernel_21764\\281048714.py:8: DeprecationWarning: find_elements_by_* commands are deprecated. Please use find_elements() instead\n",
      "  rows = driver.find_elements_by_tag_name('tr')\n",
      "C:\\Users\\jleus\\AppData\\Local\\Temp\\ipykernel_21764\\1855816869.py:7: FutureWarning: The frame.append method is deprecated and will be removed from pandas in a future version. Use pandas.concat instead.\n",
      "  newDf = newDf.append(df)\n",
      "C:\\Users\\jleus\\AppData\\Local\\Temp\\ipykernel_21764\\281048714.py:2: DeprecationWarning: executable_path has been deprecated, please pass in a Service object\n",
      "  driver = webdriver.Chrome(r\"C:\\Users\\jleus\\chromedriver.exe\")\n",
      "C:\\Users\\jleus\\AppData\\Local\\Temp\\ipykernel_21764\\281048714.py:7: DeprecationWarning: find_element_by_* commands are deprecated. Please use find_element() instead\n",
      "  driver.find_element_by_xpath('/html/body/div/div/main/div[2]/div[2]/div[1]/div/div[2]/select/option[3]').click()\n",
      "C:\\Users\\jleus\\AppData\\Local\\Temp\\ipykernel_21764\\281048714.py:8: DeprecationWarning: find_elements_by_* commands are deprecated. Please use find_elements() instead\n",
      "  rows = driver.find_elements_by_tag_name('tr')\n",
      "C:\\Users\\jleus\\AppData\\Local\\Temp\\ipykernel_21764\\1855816869.py:7: FutureWarning: The frame.append method is deprecated and will be removed from pandas in a future version. Use pandas.concat instead.\n",
      "  newDf = newDf.append(df)\n"
     ]
    }
   ],
   "source": [
    "df = getIntervals('moneyline', 3, 2)"
   ],
   "metadata": {
    "collapsed": false,
    "pycharm": {
     "name": "#%%\n"
    }
   }
  },
  {
   "cell_type": "code",
   "execution_count": 593,
   "outputs": [
    {
     "data": {
      "text/plain": "          AwayTm          HomeTm AwayBestML HomeBestML AwayPBML HomePBML  \\\n0   NewcastleNEW     West HamWHU       +450       -155     +425     -164   \n1   BrentfordBFC      ArsenalARS       +700       -162     +600     -189   \n2     WatfordWAT       VillaAVFC       +475       -150     +450     -164   \n3     BurnleyBUR       AlbionBRH       +540       -143     +500     -164   \n4     ChelseaCHE      CrystalCRY       -139       +500     -154     +450   \n..           ...             ...        ...        ...      ...      ...   \n40     BruinsBOS     SenatorsOTT       -175       +176     -185     +155   \n41      BluesSTL  Maple LeafsTOR       +180       -200     +175     -220   \n42       KingsLA      CoyotesARI       -162       +155     -170     +145   \n43      DucksANA      CanucksVAN       +146       -150     +130     -150   \n44     KrakenSEA       FlamesCGY       +260       -275     +240     -310   \n\n   AwayMGMML HomeMGMML AwayCESML HomeBCESML  ... AwayDKML HomeDKML AwayBRML  \\\n0        N/A       N/A       N/A        N/A  ...      N/A      N/A     +450   \n1        N/A       N/A       N/A        N/A  ...      N/A      N/A     +600   \n2        N/A       N/A       N/A        N/A  ...      N/A      N/A     +475   \n3        N/A       N/A       N/A        N/A  ...      N/A      N/A     +525   \n4        N/A       N/A       N/A        N/A  ...      N/A      N/A     -148   \n..       ...       ...       ...        ...  ...      ...      ...      ...   \n40      -175      +145      -180       +155  ...     -185     +160     -195   \n41      +165      -200      +180       -220  ...     +175     -200     +170   \n42      -175      +145      -170       +145  ...     -175     +150     -182   \n43      +135      -160      +130       -150  ...     +135     -155     +135   \n44      +220      -275      +240       -300  ...     +230     -330     +240   \n\n   HomeBRML AwaySHML HomeSHML AwayUBML HomeUBML Away365ML Home365ML  \n0      -155     +450     -155     +440     -159      +450      -163  \n1      -175     +630     -162     +630     -162      +700      -200  \n2      -150     +475     -150     +460     -157      +475      -163  \n3      -150     +540     -143     +525     -157      +500      -154  \n4      +475     -139     +490     -139     +490      -167      +500  \n..      ...      ...      ...      ...      ...       ...       ...  \n40     +165     -195     +165     -200     +160       N/A       N/A  \n41     -205     +180     -215     +165     -205       N/A       N/A  \n42     +155     -182     +155     -186     +150       N/A       N/A  \n43     -157     +135     -157     +132     -162       N/A       N/A  \n44     -286     +240     -286     +240     -305       N/A       N/A  \n\n[135 rows x 22 columns]",
      "text/html": "<div>\n<style scoped>\n    .dataframe tbody tr th:only-of-type {\n        vertical-align: middle;\n    }\n\n    .dataframe tbody tr th {\n        vertical-align: top;\n    }\n\n    .dataframe thead th {\n        text-align: right;\n    }\n</style>\n<table border=\"1\" class=\"dataframe\">\n  <thead>\n    <tr style=\"text-align: right;\">\n      <th></th>\n      <th>AwayTm</th>\n      <th>HomeTm</th>\n      <th>AwayBestML</th>\n      <th>HomeBestML</th>\n      <th>AwayPBML</th>\n      <th>HomePBML</th>\n      <th>AwayMGMML</th>\n      <th>HomeMGMML</th>\n      <th>AwayCESML</th>\n      <th>HomeBCESML</th>\n      <th>...</th>\n      <th>AwayDKML</th>\n      <th>HomeDKML</th>\n      <th>AwayBRML</th>\n      <th>HomeBRML</th>\n      <th>AwaySHML</th>\n      <th>HomeSHML</th>\n      <th>AwayUBML</th>\n      <th>HomeUBML</th>\n      <th>Away365ML</th>\n      <th>Home365ML</th>\n    </tr>\n  </thead>\n  <tbody>\n    <tr>\n      <th>0</th>\n      <td>NewcastleNEW</td>\n      <td>West HamWHU</td>\n      <td>+450</td>\n      <td>-155</td>\n      <td>+425</td>\n      <td>-164</td>\n      <td>N/A</td>\n      <td>N/A</td>\n      <td>N/A</td>\n      <td>N/A</td>\n      <td>...</td>\n      <td>N/A</td>\n      <td>N/A</td>\n      <td>+450</td>\n      <td>-155</td>\n      <td>+450</td>\n      <td>-155</td>\n      <td>+440</td>\n      <td>-159</td>\n      <td>+450</td>\n      <td>-163</td>\n    </tr>\n    <tr>\n      <th>1</th>\n      <td>BrentfordBFC</td>\n      <td>ArsenalARS</td>\n      <td>+700</td>\n      <td>-162</td>\n      <td>+600</td>\n      <td>-189</td>\n      <td>N/A</td>\n      <td>N/A</td>\n      <td>N/A</td>\n      <td>N/A</td>\n      <td>...</td>\n      <td>N/A</td>\n      <td>N/A</td>\n      <td>+600</td>\n      <td>-175</td>\n      <td>+630</td>\n      <td>-162</td>\n      <td>+630</td>\n      <td>-162</td>\n      <td>+700</td>\n      <td>-200</td>\n    </tr>\n    <tr>\n      <th>2</th>\n      <td>WatfordWAT</td>\n      <td>VillaAVFC</td>\n      <td>+475</td>\n      <td>-150</td>\n      <td>+450</td>\n      <td>-164</td>\n      <td>N/A</td>\n      <td>N/A</td>\n      <td>N/A</td>\n      <td>N/A</td>\n      <td>...</td>\n      <td>N/A</td>\n      <td>N/A</td>\n      <td>+475</td>\n      <td>-150</td>\n      <td>+475</td>\n      <td>-150</td>\n      <td>+460</td>\n      <td>-157</td>\n      <td>+475</td>\n      <td>-163</td>\n    </tr>\n    <tr>\n      <th>3</th>\n      <td>BurnleyBUR</td>\n      <td>AlbionBRH</td>\n      <td>+540</td>\n      <td>-143</td>\n      <td>+500</td>\n      <td>-164</td>\n      <td>N/A</td>\n      <td>N/A</td>\n      <td>N/A</td>\n      <td>N/A</td>\n      <td>...</td>\n      <td>N/A</td>\n      <td>N/A</td>\n      <td>+525</td>\n      <td>-150</td>\n      <td>+540</td>\n      <td>-143</td>\n      <td>+525</td>\n      <td>-157</td>\n      <td>+500</td>\n      <td>-154</td>\n    </tr>\n    <tr>\n      <th>4</th>\n      <td>ChelseaCHE</td>\n      <td>CrystalCRY</td>\n      <td>-139</td>\n      <td>+500</td>\n      <td>-154</td>\n      <td>+450</td>\n      <td>N/A</td>\n      <td>N/A</td>\n      <td>N/A</td>\n      <td>N/A</td>\n      <td>...</td>\n      <td>N/A</td>\n      <td>N/A</td>\n      <td>-148</td>\n      <td>+475</td>\n      <td>-139</td>\n      <td>+490</td>\n      <td>-139</td>\n      <td>+490</td>\n      <td>-167</td>\n      <td>+500</td>\n    </tr>\n    <tr>\n      <th>...</th>\n      <td>...</td>\n      <td>...</td>\n      <td>...</td>\n      <td>...</td>\n      <td>...</td>\n      <td>...</td>\n      <td>...</td>\n      <td>...</td>\n      <td>...</td>\n      <td>...</td>\n      <td>...</td>\n      <td>...</td>\n      <td>...</td>\n      <td>...</td>\n      <td>...</td>\n      <td>...</td>\n      <td>...</td>\n      <td>...</td>\n      <td>...</td>\n      <td>...</td>\n      <td>...</td>\n    </tr>\n    <tr>\n      <th>40</th>\n      <td>BruinsBOS</td>\n      <td>SenatorsOTT</td>\n      <td>-175</td>\n      <td>+176</td>\n      <td>-185</td>\n      <td>+155</td>\n      <td>-175</td>\n      <td>+145</td>\n      <td>-180</td>\n      <td>+155</td>\n      <td>...</td>\n      <td>-185</td>\n      <td>+160</td>\n      <td>-195</td>\n      <td>+165</td>\n      <td>-195</td>\n      <td>+165</td>\n      <td>-200</td>\n      <td>+160</td>\n      <td>N/A</td>\n      <td>N/A</td>\n    </tr>\n    <tr>\n      <th>41</th>\n      <td>BluesSTL</td>\n      <td>Maple LeafsTOR</td>\n      <td>+180</td>\n      <td>-200</td>\n      <td>+175</td>\n      <td>-220</td>\n      <td>+165</td>\n      <td>-200</td>\n      <td>+180</td>\n      <td>-220</td>\n      <td>...</td>\n      <td>+175</td>\n      <td>-200</td>\n      <td>+170</td>\n      <td>-205</td>\n      <td>+180</td>\n      <td>-215</td>\n      <td>+165</td>\n      <td>-205</td>\n      <td>N/A</td>\n      <td>N/A</td>\n    </tr>\n    <tr>\n      <th>42</th>\n      <td>KingsLA</td>\n      <td>CoyotesARI</td>\n      <td>-162</td>\n      <td>+155</td>\n      <td>-170</td>\n      <td>+145</td>\n      <td>-175</td>\n      <td>+145</td>\n      <td>-170</td>\n      <td>+145</td>\n      <td>...</td>\n      <td>-175</td>\n      <td>+150</td>\n      <td>-182</td>\n      <td>+155</td>\n      <td>-182</td>\n      <td>+155</td>\n      <td>-186</td>\n      <td>+150</td>\n      <td>N/A</td>\n      <td>N/A</td>\n    </tr>\n    <tr>\n      <th>43</th>\n      <td>DucksANA</td>\n      <td>CanucksVAN</td>\n      <td>+146</td>\n      <td>-150</td>\n      <td>+130</td>\n      <td>-150</td>\n      <td>+135</td>\n      <td>-160</td>\n      <td>+130</td>\n      <td>-150</td>\n      <td>...</td>\n      <td>+135</td>\n      <td>-155</td>\n      <td>+135</td>\n      <td>-157</td>\n      <td>+135</td>\n      <td>-157</td>\n      <td>+132</td>\n      <td>-162</td>\n      <td>N/A</td>\n      <td>N/A</td>\n    </tr>\n    <tr>\n      <th>44</th>\n      <td>KrakenSEA</td>\n      <td>FlamesCGY</td>\n      <td>+260</td>\n      <td>-275</td>\n      <td>+240</td>\n      <td>-310</td>\n      <td>+220</td>\n      <td>-275</td>\n      <td>+240</td>\n      <td>-300</td>\n      <td>...</td>\n      <td>+230</td>\n      <td>-330</td>\n      <td>+240</td>\n      <td>-286</td>\n      <td>+240</td>\n      <td>-286</td>\n      <td>+240</td>\n      <td>-305</td>\n      <td>N/A</td>\n      <td>N/A</td>\n    </tr>\n  </tbody>\n</table>\n<p>135 rows × 22 columns</p>\n</div>"
     },
     "execution_count": 593,
     "metadata": {},
     "output_type": "execute_result"
    }
   ],
   "source": [
    "df"
   ],
   "metadata": {
    "collapsed": false,
    "pycharm": {
     "name": "#%%\n"
    }
   }
  }
 ],
 "metadata": {
  "kernelspec": {
   "display_name": "Python 3",
   "language": "python",
   "name": "python3"
  },
  "language_info": {
   "codemirror_mode": {
    "name": "ipython",
    "version": 2
   },
   "file_extension": ".py",
   "mimetype": "text/x-python",
   "name": "python",
   "nbconvert_exporter": "python",
   "pygments_lexer": "ipython2",
   "version": "2.7.6"
  }
 },
 "nbformat": 4,
 "nbformat_minor": 0
}